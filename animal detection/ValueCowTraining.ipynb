{
 "cells": [
  {
   "cell_type": "markdown",
   "metadata": {},
   "source": [
    "🐄 T5 Model for Cattle Price Prediction"
   ]
  },
  {
   "cell_type": "markdown",
   "metadata": {},
   "source": [
    "📦 Installation"
   ]
  },
  {
   "cell_type": "code",
   "execution_count": null,
   "metadata": {
    "_cell_guid": "b1076dfc-b9ad-4769-8c92-a6c4dae69d19",
    "_uuid": "8f2839f25d086af736a60e9eeb907d3b93b6e0e5",
    "execution": {
     "iopub.execute_input": "2025-06-13T23:37:27.676078Z",
     "iopub.status.busy": "2025-06-13T23:37:27.675564Z",
     "iopub.status.idle": "2025-06-13T23:38:48.335927Z",
     "shell.execute_reply": "2025-06-13T23:38:48.335207Z",
     "shell.execute_reply.started": "2025-06-13T23:37:27.676055Z"
    },
    "trusted": true
   },
   "outputs": [],
   "source": [
    "!pip install -q transformers datasets accelerate"
   ]
  },
  {
   "cell_type": "markdown",
   "metadata": {},
   "source": [
    "📁 Dataset Loading and Preparation"
   ]
  },
  {
   "cell_type": "code",
   "execution_count": null,
   "metadata": {
    "execution": {
     "iopub.execute_input": "2025-06-13T23:39:02.108251Z",
     "iopub.status.busy": "2025-06-13T23:39:02.107926Z",
     "iopub.status.idle": "2025-06-13T23:39:03.878136Z",
     "shell.execute_reply": "2025-06-13T23:39:03.877516Z",
     "shell.execute_reply.started": "2025-06-13T23:39:02.108222Z"
    },
    "trusted": true
   },
   "outputs": [],
   "source": [
    "import json\n",
    "import pandas as pd\n",
    "\n",
    "# Load the dataset\n",
    "with open(\"/kaggle/input/dataset-cattle/cattle_training_dataset.json\") as f:\n",
    "    data = json.load(f)\n",
    "\n",
    "# Flatten and convert\n",
    "records = []\n",
    "for item in data:\n",
    "    inp = item['input']\n",
    "    text = f\"sex: {inp['sex']}, age: {inp['age']}, health: {';'.join(inp['health'])}\"\n",
    "    records.append({\"input_text\": text, \"target_text\": str(item['output'])})\n",
    "\n",
    "df = pd.DataFrame(records)\n",
    "df.head()"
   ]
  },
  {
   "cell_type": "code",
   "execution_count": 4,
   "metadata": {
    "execution": {
     "iopub.execute_input": "2025-06-13T23:40:35.025057Z",
     "iopub.status.busy": "2025-06-13T23:40:35.024802Z",
     "iopub.status.idle": "2025-06-13T23:40:35.915763Z",
     "shell.execute_reply": "2025-06-13T23:40:35.915266Z",
     "shell.execute_reply.started": "2025-06-13T23:40:35.025038Z"
    },
    "trusted": true
   },
   "outputs": [],
   "source": [
    "from datasets import Dataset\n",
    "\n",
    "dataset = Dataset.from_pandas(df)\n",
    "dataset = dataset.train_test_split(test_size=0.1)"
   ]
  },
  {
   "cell_type": "markdown",
   "metadata": {},
   "source": [
    "🧹 Tokenization and Preprocessing"
   ]
  },
  {
   "cell_type": "code",
   "execution_count": null,
   "metadata": {
    "execution": {
     "iopub.execute_input": "2025-06-13T23:40:37.958513Z",
     "iopub.status.busy": "2025-06-13T23:40:37.958105Z",
     "iopub.status.idle": "2025-06-13T23:40:38.781424Z",
     "shell.execute_reply": "2025-06-13T23:40:38.780653Z",
     "shell.execute_reply.started": "2025-06-13T23:40:37.958492Z"
    },
    "trusted": true
   },
   "outputs": [],
   "source": [
    "from transformers import T5Tokenizer\n",
    "\n",
    "model_name = \"t5-small\"\n",
    "tokenizer = T5Tokenizer.from_pretrained(model_name)\n",
    "\n",
    "def preprocess(example):\n",
    "    model_input = tokenizer(example['input_text'], truncation=True, padding=\"max_length\", max_length=128)\n",
    "    with tokenizer.as_target_tokenizer():\n",
    "        labels = tokenizer(example['target_text'], truncation=True, padding=\"max_length\", max_length=10)\n",
    "    model_input['labels'] = labels['input_ids']\n",
    "    return model_input\n",
    "\n",
    "tokenized = dataset.map(preprocess)"
   ]
  },
  {
   "cell_type": "markdown",
   "metadata": {},
   "source": [
    "🧠 Training the Model"
   ]
  },
  {
   "cell_type": "code",
   "execution_count": null,
   "metadata": {
    "execution": {
     "iopub.execute_input": "2025-06-14T00:39:11.052489Z",
     "iopub.status.busy": "2025-06-14T00:39:11.051918Z",
     "iopub.status.idle": "2025-06-14T00:40:39.811140Z",
     "shell.execute_reply": "2025-06-14T00:40:39.810288Z",
     "shell.execute_reply.started": "2025-06-14T00:39:11.052464Z"
    },
    "trusted": true
   },
   "outputs": [],
   "source": [
    "from transformers import T5ForConditionalGeneration, TrainingArguments, Trainer, DataCollatorForSeq2Seq\n",
    "\n",
    "model = T5ForConditionalGeneration.from_pretrained(model_name)\n",
    "\n",
    "training_args = TrainingArguments(\n",
    "    output_dir=\"./results\",\n",
    "    do_eval=True,\n",
    "    num_train_epochs=10,\n",
    "    per_device_train_batch_size=8,\n",
    "    per_device_eval_batch_size=8,\n",
    "    logging_steps=10,\n",
    "    save_steps=500,\n",
    "    disable_tqdm=False,         # ✅ Forces progress bar to show in notebook\n",
    "    report_to=\"none\"            # ✅ Avoids WandB issues\n",
    ")\n",
    "\n",
    "\n",
    "data_collator = DataCollatorForSeq2Seq(tokenizer, model=model)\n",
    "\n",
    "trainer = Trainer(\n",
    "    model=model,\n",
    "    args=training_args,\n",
    "    train_dataset=tokenized[\"train\"],\n",
    "    eval_dataset=tokenized[\"test\"],\n",
    "    tokenizer=tokenizer,\n",
    "    data_collator=data_collator,\n",
    "    \n",
    ")\n",
    "\n",
    "trainer.train()\n"
   ]
  },
  {
   "cell_type": "markdown",
   "metadata": {},
   "source": [
    "💾 Save and Reload Model"
   ]
  },
  {
   "cell_type": "code",
   "execution_count": null,
   "metadata": {
    "execution": {
     "iopub.execute_input": "2025-06-14T00:41:23.783293Z",
     "iopub.status.busy": "2025-06-14T00:41:23.782950Z",
     "iopub.status.idle": "2025-06-14T00:41:24.160750Z",
     "shell.execute_reply": "2025-06-14T00:41:24.160163Z",
     "shell.execute_reply.started": "2025-06-14T00:41:23.783270Z"
    },
    "trusted": true
   },
   "outputs": [],
   "source": [
    "model.save_pretrained(\"/kaggle/working/t5-livestock\")\n",
    "tokenizer.save_pretrained(\"/kaggle/working/t5-livestock\")"
   ]
  },
  {
   "cell_type": "markdown",
   "metadata": {},
   "source": [
    "🔮 Inference Function"
   ]
  },
  {
   "cell_type": "code",
   "execution_count": null,
   "metadata": {
    "execution": {
     "iopub.execute_input": "2025-06-14T00:43:09.781559Z",
     "iopub.status.busy": "2025-06-14T00:43:09.781003Z",
     "iopub.status.idle": "2025-06-14T00:43:09.832901Z",
     "shell.execute_reply": "2025-06-14T00:43:09.832395Z",
     "shell.execute_reply.started": "2025-06-14T00:43:09.781536Z"
    },
    "trusted": true
   },
   "outputs": [],
   "source": [
    "def format_input(data: dict) -> str:\n",
    "    \"\"\"\n",
    "    Converts a structured input dict into the expected T5 input format string.\n",
    "    \"\"\"\n",
    "    sex = data.get(\"sex\", \"Unknown\")\n",
    "    age = data.get(\"age\", \"Unknown\")\n",
    "    health = \";\".join(data.get(\"health\", []))\n",
    "    return f\"sex: {sex}, age: {age}, health: {health}\"\n",
    "\n",
    "import torch\n",
    "\n",
    "def predict_price_from_json(input_data: dict):\n",
    "    \"\"\"\n",
    "    Takes a JSON-like dict and predicts the price using the fine-tuned T5 model.\n",
    "    Ensures that input tensors are on the same device as the model.\n",
    "    \"\"\"\n",
    "    input_text = format_input(input_data)\n",
    "    \n",
    "    # Detect device (CPU or CUDA)\n",
    "    device = torch.device(\"cuda\" if torch.cuda.is_available() else \"cpu\")\n",
    "    \n",
    "    # Move model to the correct device\n",
    "    model.to(device)\n",
    "    \n",
    "    # Tokenize and move inputs to the same device\n",
    "    inputs = tokenizer(input_text, return_tensors=\"pt\", truncation=True, padding=\"max_length\", max_length=128)\n",
    "    inputs = {k: v.to(device) for k, v in inputs.items()}\n",
    "    \n",
    "    # Generate prediction\n",
    "    outputs = model.generate(**inputs)\n",
    "    return tokenizer.decode(outputs[0], skip_special_tokens=True)\n",
    "\n",
    "# ✅ Example JSON input\n",
    "example_json = {\n",
    "    \"sex\": \"Male\",\n",
    "    \"age\": \"2Y\",\n",
    "    \"health\": [\"healthy\"]\n",
    "}\n",
    "\n",
    "predicted_price = predict_price_from_json(example_json)\n",
    "print(\"💰 Predicted price:\", predicted_price)\n"
   ]
  },
  {
   "cell_type": "markdown",
   "metadata": {},
   "source": [
    "🚀 Upload to Hugging Face Hub"
   ]
  },
  {
   "cell_type": "code",
   "execution_count": null,
   "metadata": {},
   "outputs": [],
   "source": [
    "!pip install -q huggingface_hub"
   ]
  },
  {
   "cell_type": "code",
   "execution_count": null,
   "metadata": {
    "execution": {
     "iopub.execute_input": "2025-06-14T00:45:12.776569Z",
     "iopub.status.busy": "2025-06-14T00:45:12.775989Z",
     "iopub.status.idle": "2025-06-14T00:45:15.880953Z",
     "shell.execute_reply": "2025-06-14T00:45:15.880214Z",
     "shell.execute_reply.started": "2025-06-14T00:45:12.776540Z"
    },
    "trusted": true
   },
   "outputs": [],
   "source": [
    "from huggingface_hub import HfApi, HfFolder\n",
    "from dotenv import load_dotenv\n",
    "import os\n",
    "\n",
    "# Load environment variables from .env\n",
    "load_dotenv()\n",
    "hf_token = os.getenv(\"HF_TOKEN\")\n",
    "# Paste your token here (keep it secret!)\n",
    "\n",
    "# Save it to the Hugging Face config\n",
    "HfFolder.save_token(hf_token)\n",
    "\n",
    "# Optional: test auth\n",
    "api = HfApi()\n",
    "user = api.whoami()\n",
    "print(\"✅ Logged in as:\", user[\"name\"])\n"
   ]
  },
  {
   "cell_type": "code",
   "execution_count": null,
   "metadata": {
    "execution": {
     "iopub.execute_input": "2025-06-14T00:46:40.453945Z",
     "iopub.status.busy": "2025-06-14T00:46:40.453261Z",
     "iopub.status.idle": "2025-06-14T00:46:53.249025Z",
     "shell.execute_reply": "2025-06-14T00:46:53.248444Z",
     "shell.execute_reply.started": "2025-06-14T00:46:40.453914Z"
    },
    "trusted": true
   },
   "outputs": [],
   "source": [
    "from huggingface_hub import notebook_login\n",
    "notebook_login()\n",
    "\n",
    "model.push_to_hub(\"t5-cattle-price\")\n",
    "tokenizer.push_to_hub(\"t5-cattle-price\")\n"
   ]
  },
  {
   "cell_type": "markdown",
   "metadata": {},
   "source": [
    "🌐 Flask API for Deployment"
   ]
  },
  {
   "cell_type": "code",
   "execution_count": null,
   "metadata": {
    "trusted": true
   },
   "outputs": [],
   "source": [
    "from flask import Flask, request, jsonify\n",
    "from transformers import T5Tokenizer, T5ForConditionalGeneration\n",
    "\n",
    "# ✅ Load once when the app starts\n",
    "tokenizer = T5Tokenizer.from_pretrained(\"your-username/t5-cattle-price\")\n",
    "model = T5ForConditionalGeneration.from_pretrained(\"your-username/t5-cattle-price\")\n",
    "\n",
    "def format_input(data):\n",
    "    return f\"sex: {data['sex']}, age: {data['age']}, health: {';'.join(data['health'])}\"\n",
    "\n",
    "def predict_price(data):\n",
    "    input_text = format_input(data)\n",
    "    inputs = tokenizer(input_text, return_tensors=\"pt\", padding=\"max_length\", truncation=True, max_length=128)\n",
    "    outputs = model.generate(**inputs)\n",
    "    return tokenizer.decode(outputs[0], skip_special_tokens=True)\n",
    "\n",
    "app = Flask(__name__)\n",
    "\n",
    "@app.route(\"/predict\", methods=[\"POST\"])\n",
    "def predict():\n",
    "    data = request.get_json()\n",
    "    predicted_price = predict_price(data)\n",
    "    return jsonify({\"price\": predicted_price})\n",
    "\n",
    "if __name__ == \"__main__\":\n",
    "    app.run(debug=True)\n"
   ]
  }
 ],
 "metadata": {
  "kaggle": {
   "accelerator": "nvidiaTeslaT4",
   "dataSources": [
    {
     "datasetId": 7658206,
     "sourceId": 12159697,
     "sourceType": "datasetVersion"
    }
   ],
   "dockerImageVersionId": 31041,
   "isGpuEnabled": true,
   "isInternetEnabled": true,
   "language": "python",
   "sourceType": "notebook"
  },
  "kernelspec": {
   "display_name": "Python 3",
   "language": "python",
   "name": "python3"
  },
  "language_info": {
   "codemirror_mode": {
    "name": "ipython",
    "version": 3
   },
   "file_extension": ".py",
   "mimetype": "text/x-python",
   "name": "python",
   "nbconvert_exporter": "python",
   "pygments_lexer": "ipython3",
   "version": "3.11.11"
  }
 },
 "nbformat": 4,
 "nbformat_minor": 4
}
